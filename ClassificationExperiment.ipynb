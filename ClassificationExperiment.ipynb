import numpy as np
from matplotlib import pyplot as plt
from sklearn.datasets import load_svmlight_file
from sklearn.model_selection import train_test_split

#第一步 获取数据
#从文件中读取数据并进行切割
#返回的数据 数据类型有训练集的x_train y_train x_test y_test
def load_data_set(filePath):
    X, y = load_svmlight_file(filePath)
    X = X.todense()
    X_train, X_test, y_train, y_test = train_test_split(X, y,test_size=0.5, random_state=0)
    return X_train, X_test,y_train, y_test

# 绘画曲线的函数
def plotLossPerTime(n,losss_train,losss_test):
	plt.xlabel('iteration times')
	plt.ylabel('loss of train or validation')
	plt.title('linear classification & gradient decrease')
	n_cycles = range(1,n+1)
	plt.plot(n_cycles, losss_train, label = "Train", color='blue', linewidth=3)
	plt.plot(n_cycles, losss_test, label = "Validation", color='red', linewidth=3)
	plt.legend(loc=0)
	plt.grid()
	plt.show()


#算法的实体
#参数 学习率alpha, 循环次数n 数据集 X_ y_
# 返回n维的losses 数组
def linear_classification(alpha, n, X_, y_):
    num_col = X_.shape[0]
    num_row = X_.shape[1]
    print(num_col, num_row)
    w = np.random.normal(size=num_row)
    b = np.random.normal(size=1)
    losses = []
    t = 0 # 阈值
    for i in range(n):
        grad_w = np.random.normal(size=num_row)
        grad_b = np.random.normal(size=1)
        loss = 0
        error = 0
        C = np.power(2, 5)
        for j in range(num_col):
            y = np.dot(X_[j][0].getA()[0], w) + b # 目标函数
            if y_[j]*y < 1 :
                loss += C * max(0, 1 - y_[j] * y) / num_col
                grad_w += -C * y_[j] * X_[j][0].getA()[0] / num_col
                grad_b += -C * y_[j] / num_col
            if y > t :
                y = 1
            else :
                y = -1
            if y != y_[j]:
                error += 1
        losses.append(loss)
        w -= alpha * grad_w
        b -= alpha * grad_b
        print(loss, 1-error/num_col)
    return losses

# mian 客户端函数
X_train, X_test, y_train, y_test = load_data_set("australian_scaled.txt")
losses_train = linear_classification(0.006, 500, X_train, y_train)
losses_test = linear_classification(0.006, 500, X_test, y_test)
plotLossPerTime(500, losses_train, losses_test)