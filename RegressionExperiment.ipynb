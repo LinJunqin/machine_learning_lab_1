import numpy as np
from matplotlib import pyplot as plt
from sklearn.datasets import load_svmlight_file
from sklearn.model_selection import train_test_split

#第一步 获取数据
#从文件中读取数据并进行切割
#返回的数据 数据类型有训练集的x_train y_train x_test y_test
def load_data_set(filePath):
    X, y = load_svmlight_file(filePath)
    X = X.todense()
    X_train, X_test, y_train, y_test = train_test_split(X, y, test_size=0.33, random_state=0)
    return X_train, X_test,y_train, y_test
# 绘画曲线的函数
def plotLossPerTime(n,losss_train,losss_test):
	plt.xlabel('iteration times')
	plt.ylabel('loss of train or validation')
	plt.title('linear regression & gradient decrease')
	n_cycles = range(1,n+1)
	plt.plot(n_cycles, losss_train, label = "Train", color='blue', linewidth=3)
	plt.plot(n_cycles, losss_test, label = "Validation", color='red', linewidth=3)
	plt.legend(loc=0)
	plt.grid()
	plt.show()


#算法的实体
#参数 学习率alpha, 循环次数n 数据集 X_ y_
# 返回n维的losses 数组
# 1.初始化变量 数据的规模 m(num_col)*n(num_row) w , b ,losses
# 2.定义一次训练进行的算法
#   2.1 初始化梯度 grad_w[] grad_b loss
#   2.2 计算y loss 两个梯度grad_w grad_b 更新 w b 将loss 加到 losses中
def linear_regression(alpha, n, X_, y_):
    num_col = X_.shape[0]
    num_row = X_.shape[1]
    print(num_col, num_row)
    w = np.random.normal(size=num_row)
    b = np.random.normal(size=1)
    losses = []
    for i in range(n):
        grad_w = np.random.normal(size=num_row)
        grad_b = np.random.normal(size=1)
        loss = 0
        for j in range(num_col):
            y = np.dot(X_[j][0].getA()[0], w) + b # 目标函数
            loss += 0.5 * (y-y_[j])**2 / num_col
            grad_w += (y-y_[j]) * X_[j][0].getA()[0] / num_col
            grad_b += (y-y_[j]) / num_col
        losses.append(loss)
        w -= alpha * grad_w
        b -= alpha * grad_b
        print(loss)
    return losses

# main 客户端函数
# 1.加载数据
# 2.训练与测试
# 3.画出结果图
X_train, X_test, y_train, y_test = load_data_set("housing_data_scaled.txt")
print(y_train.shape)
losses_train = linear_regression(0.006, 500, X_train, y_train) # 训练集
losses_test = linear_regression(0.006, 500, X_test, y_test) # 测试集
plotLossPerTime(500, losses_train, losses_test)







